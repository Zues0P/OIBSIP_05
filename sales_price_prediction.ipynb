{
 "cells": [
  {
   "cell_type": "markdown",
   "id": "c1b4e467",
   "metadata": {},
   "source": [
    "## Importing Required Libraries "
   ]
  },
  {
   "cell_type": "code",
   "execution_count": 1,
   "id": "82909210",
   "metadata": {},
   "outputs": [],
   "source": [
    "import pandas as pd\n",
    "from sklearn.model_selection import train_test_split\n",
    "from sklearn.preprocessing import StandardScaler\n",
    "from sklearn.linear_model import LinearRegression\n",
    "from sklearn.metrics import r2_score\n",
    "import matplotlib.pyplot as plt "
   ]
  },
  {
   "cell_type": "code",
   "execution_count": 2,
   "id": "6f375373",
   "metadata": {},
   "outputs": [],
   "source": [
    "dataset=pd.read_csv('Advertising.csv')"
   ]
  },
  {
   "cell_type": "code",
   "execution_count": 3,
   "id": "50c4d2df",
   "metadata": {},
   "outputs": [
    {
     "data": {
      "text/html": [
       "<div>\n",
       "<style scoped>\n",
       "    .dataframe tbody tr th:only-of-type {\n",
       "        vertical-align: middle;\n",
       "    }\n",
       "\n",
       "    .dataframe tbody tr th {\n",
       "        vertical-align: top;\n",
       "    }\n",
       "\n",
       "    .dataframe thead th {\n",
       "        text-align: right;\n",
       "    }\n",
       "</style>\n",
       "<table border=\"1\" class=\"dataframe\">\n",
       "  <thead>\n",
       "    <tr style=\"text-align: right;\">\n",
       "      <th></th>\n",
       "      <th>Unnamed: 0</th>\n",
       "      <th>TV</th>\n",
       "      <th>Radio</th>\n",
       "      <th>Newspaper</th>\n",
       "      <th>Sales</th>\n",
       "    </tr>\n",
       "  </thead>\n",
       "  <tbody>\n",
       "    <tr>\n",
       "      <th>0</th>\n",
       "      <td>1</td>\n",
       "      <td>230.1</td>\n",
       "      <td>37.8</td>\n",
       "      <td>69.2</td>\n",
       "      <td>22.1</td>\n",
       "    </tr>\n",
       "    <tr>\n",
       "      <th>1</th>\n",
       "      <td>2</td>\n",
       "      <td>44.5</td>\n",
       "      <td>39.3</td>\n",
       "      <td>45.1</td>\n",
       "      <td>10.4</td>\n",
       "    </tr>\n",
       "    <tr>\n",
       "      <th>2</th>\n",
       "      <td>3</td>\n",
       "      <td>17.2</td>\n",
       "      <td>45.9</td>\n",
       "      <td>69.3</td>\n",
       "      <td>9.3</td>\n",
       "    </tr>\n",
       "    <tr>\n",
       "      <th>3</th>\n",
       "      <td>4</td>\n",
       "      <td>151.5</td>\n",
       "      <td>41.3</td>\n",
       "      <td>58.5</td>\n",
       "      <td>18.5</td>\n",
       "    </tr>\n",
       "    <tr>\n",
       "      <th>4</th>\n",
       "      <td>5</td>\n",
       "      <td>180.8</td>\n",
       "      <td>10.8</td>\n",
       "      <td>58.4</td>\n",
       "      <td>12.9</td>\n",
       "    </tr>\n",
       "  </tbody>\n",
       "</table>\n",
       "</div>"
      ],
      "text/plain": [
       "   Unnamed: 0     TV  Radio  Newspaper  Sales\n",
       "0           1  230.1   37.8       69.2   22.1\n",
       "1           2   44.5   39.3       45.1   10.4\n",
       "2           3   17.2   45.9       69.3    9.3\n",
       "3           4  151.5   41.3       58.5   18.5\n",
       "4           5  180.8   10.8       58.4   12.9"
      ]
     },
     "execution_count": 3,
     "metadata": {},
     "output_type": "execute_result"
    }
   ],
   "source": [
    "dataset.head()"
   ]
  },
  {
   "cell_type": "code",
   "execution_count": 4,
   "id": "ee21be5c",
   "metadata": {},
   "outputs": [
    {
     "name": "stdout",
     "output_type": "stream",
     "text": [
      "<class 'pandas.core.frame.DataFrame'>\n",
      "RangeIndex: 200 entries, 0 to 199\n",
      "Data columns (total 5 columns):\n",
      " #   Column      Non-Null Count  Dtype  \n",
      "---  ------      --------------  -----  \n",
      " 0   Unnamed: 0  200 non-null    int64  \n",
      " 1   TV          200 non-null    float64\n",
      " 2   Radio       200 non-null    float64\n",
      " 3   Newspaper   200 non-null    float64\n",
      " 4   Sales       200 non-null    float64\n",
      "dtypes: float64(4), int64(1)\n",
      "memory usage: 7.9 KB\n"
     ]
    }
   ],
   "source": [
    "dataset.info()"
   ]
  },
  {
   "cell_type": "code",
   "execution_count": 5,
   "id": "29f82e80",
   "metadata": {},
   "outputs": [
    {
     "data": {
      "text/plain": [
       "Unnamed: 0    0\n",
       "TV            0\n",
       "Radio         0\n",
       "Newspaper     0\n",
       "Sales         0\n",
       "dtype: int64"
      ]
     },
     "execution_count": 5,
     "metadata": {},
     "output_type": "execute_result"
    }
   ],
   "source": [
    "dataset.isnull().sum()"
   ]
  },
  {
   "cell_type": "markdown",
   "id": "c7df36bf",
   "metadata": {},
   "source": [
    "This shows no null values present in the dataset "
   ]
  },
  {
   "cell_type": "markdown",
   "id": "be80b742",
   "metadata": {},
   "source": [
    "Dropping columns \"unnamed\" as there is no need for it as it is only the index"
   ]
  },
  {
   "cell_type": "code",
   "execution_count": 6,
   "id": "68994fec",
   "metadata": {},
   "outputs": [],
   "source": [
    "dataset = dataset.drop(\"Unnamed: 0\",axis=1)"
   ]
  },
  {
   "cell_type": "code",
   "execution_count": 7,
   "id": "abfa3843",
   "metadata": {},
   "outputs": [
    {
     "data": {
      "text/html": [
       "<div>\n",
       "<style scoped>\n",
       "    .dataframe tbody tr th:only-of-type {\n",
       "        vertical-align: middle;\n",
       "    }\n",
       "\n",
       "    .dataframe tbody tr th {\n",
       "        vertical-align: top;\n",
       "    }\n",
       "\n",
       "    .dataframe thead th {\n",
       "        text-align: right;\n",
       "    }\n",
       "</style>\n",
       "<table border=\"1\" class=\"dataframe\">\n",
       "  <thead>\n",
       "    <tr style=\"text-align: right;\">\n",
       "      <th></th>\n",
       "      <th>TV</th>\n",
       "      <th>Radio</th>\n",
       "      <th>Newspaper</th>\n",
       "      <th>Sales</th>\n",
       "    </tr>\n",
       "  </thead>\n",
       "  <tbody>\n",
       "    <tr>\n",
       "      <th>0</th>\n",
       "      <td>230.1</td>\n",
       "      <td>37.8</td>\n",
       "      <td>69.2</td>\n",
       "      <td>22.1</td>\n",
       "    </tr>\n",
       "    <tr>\n",
       "      <th>1</th>\n",
       "      <td>44.5</td>\n",
       "      <td>39.3</td>\n",
       "      <td>45.1</td>\n",
       "      <td>10.4</td>\n",
       "    </tr>\n",
       "    <tr>\n",
       "      <th>2</th>\n",
       "      <td>17.2</td>\n",
       "      <td>45.9</td>\n",
       "      <td>69.3</td>\n",
       "      <td>9.3</td>\n",
       "    </tr>\n",
       "    <tr>\n",
       "      <th>3</th>\n",
       "      <td>151.5</td>\n",
       "      <td>41.3</td>\n",
       "      <td>58.5</td>\n",
       "      <td>18.5</td>\n",
       "    </tr>\n",
       "    <tr>\n",
       "      <th>4</th>\n",
       "      <td>180.8</td>\n",
       "      <td>10.8</td>\n",
       "      <td>58.4</td>\n",
       "      <td>12.9</td>\n",
       "    </tr>\n",
       "  </tbody>\n",
       "</table>\n",
       "</div>"
      ],
      "text/plain": [
       "      TV  Radio  Newspaper  Sales\n",
       "0  230.1   37.8       69.2   22.1\n",
       "1   44.5   39.3       45.1   10.4\n",
       "2   17.2   45.9       69.3    9.3\n",
       "3  151.5   41.3       58.5   18.5\n",
       "4  180.8   10.8       58.4   12.9"
      ]
     },
     "execution_count": 7,
     "metadata": {},
     "output_type": "execute_result"
    }
   ],
   "source": [
    "dataset.head()"
   ]
  },
  {
   "cell_type": "markdown",
   "id": "ad84df6d",
   "metadata": {},
   "source": [
    "Separating the values for training and testing"
   ]
  },
  {
   "cell_type": "code",
   "execution_count": 8,
   "id": "fa885938",
   "metadata": {},
   "outputs": [],
   "source": [
    "x=dataset.drop(\"Sales\",axis=1)"
   ]
  },
  {
   "cell_type": "code",
   "execution_count": 9,
   "id": "46d82ef0",
   "metadata": {},
   "outputs": [
    {
     "data": {
      "text/html": [
       "<div>\n",
       "<style scoped>\n",
       "    .dataframe tbody tr th:only-of-type {\n",
       "        vertical-align: middle;\n",
       "    }\n",
       "\n",
       "    .dataframe tbody tr th {\n",
       "        vertical-align: top;\n",
       "    }\n",
       "\n",
       "    .dataframe thead th {\n",
       "        text-align: right;\n",
       "    }\n",
       "</style>\n",
       "<table border=\"1\" class=\"dataframe\">\n",
       "  <thead>\n",
       "    <tr style=\"text-align: right;\">\n",
       "      <th></th>\n",
       "      <th>TV</th>\n",
       "      <th>Radio</th>\n",
       "      <th>Newspaper</th>\n",
       "    </tr>\n",
       "  </thead>\n",
       "  <tbody>\n",
       "    <tr>\n",
       "      <th>0</th>\n",
       "      <td>230.1</td>\n",
       "      <td>37.8</td>\n",
       "      <td>69.2</td>\n",
       "    </tr>\n",
       "    <tr>\n",
       "      <th>1</th>\n",
       "      <td>44.5</td>\n",
       "      <td>39.3</td>\n",
       "      <td>45.1</td>\n",
       "    </tr>\n",
       "    <tr>\n",
       "      <th>2</th>\n",
       "      <td>17.2</td>\n",
       "      <td>45.9</td>\n",
       "      <td>69.3</td>\n",
       "    </tr>\n",
       "    <tr>\n",
       "      <th>3</th>\n",
       "      <td>151.5</td>\n",
       "      <td>41.3</td>\n",
       "      <td>58.5</td>\n",
       "    </tr>\n",
       "    <tr>\n",
       "      <th>4</th>\n",
       "      <td>180.8</td>\n",
       "      <td>10.8</td>\n",
       "      <td>58.4</td>\n",
       "    </tr>\n",
       "    <tr>\n",
       "      <th>...</th>\n",
       "      <td>...</td>\n",
       "      <td>...</td>\n",
       "      <td>...</td>\n",
       "    </tr>\n",
       "    <tr>\n",
       "      <th>195</th>\n",
       "      <td>38.2</td>\n",
       "      <td>3.7</td>\n",
       "      <td>13.8</td>\n",
       "    </tr>\n",
       "    <tr>\n",
       "      <th>196</th>\n",
       "      <td>94.2</td>\n",
       "      <td>4.9</td>\n",
       "      <td>8.1</td>\n",
       "    </tr>\n",
       "    <tr>\n",
       "      <th>197</th>\n",
       "      <td>177.0</td>\n",
       "      <td>9.3</td>\n",
       "      <td>6.4</td>\n",
       "    </tr>\n",
       "    <tr>\n",
       "      <th>198</th>\n",
       "      <td>283.6</td>\n",
       "      <td>42.0</td>\n",
       "      <td>66.2</td>\n",
       "    </tr>\n",
       "    <tr>\n",
       "      <th>199</th>\n",
       "      <td>232.1</td>\n",
       "      <td>8.6</td>\n",
       "      <td>8.7</td>\n",
       "    </tr>\n",
       "  </tbody>\n",
       "</table>\n",
       "<p>200 rows × 3 columns</p>\n",
       "</div>"
      ],
      "text/plain": [
       "        TV  Radio  Newspaper\n",
       "0    230.1   37.8       69.2\n",
       "1     44.5   39.3       45.1\n",
       "2     17.2   45.9       69.3\n",
       "3    151.5   41.3       58.5\n",
       "4    180.8   10.8       58.4\n",
       "..     ...    ...        ...\n",
       "195   38.2    3.7       13.8\n",
       "196   94.2    4.9        8.1\n",
       "197  177.0    9.3        6.4\n",
       "198  283.6   42.0       66.2\n",
       "199  232.1    8.6        8.7\n",
       "\n",
       "[200 rows x 3 columns]"
      ]
     },
     "execution_count": 9,
     "metadata": {},
     "output_type": "execute_result"
    }
   ],
   "source": [
    "x"
   ]
  },
  {
   "cell_type": "code",
   "execution_count": 10,
   "id": "e630ff5c",
   "metadata": {},
   "outputs": [],
   "source": [
    "y=dataset[\"Sales\"]"
   ]
  },
  {
   "cell_type": "code",
   "execution_count": 11,
   "id": "fe4600db",
   "metadata": {},
   "outputs": [
    {
     "data": {
      "text/plain": [
       "0      22.1\n",
       "1      10.4\n",
       "2       9.3\n",
       "3      18.5\n",
       "4      12.9\n",
       "       ... \n",
       "195     7.6\n",
       "196     9.7\n",
       "197    12.8\n",
       "198    25.5\n",
       "199    13.4\n",
       "Name: Sales, Length: 200, dtype: float64"
      ]
     },
     "execution_count": 11,
     "metadata": {},
     "output_type": "execute_result"
    }
   ],
   "source": [
    "y"
   ]
  },
  {
   "cell_type": "markdown",
   "id": "cd8f5ea2",
   "metadata": {},
   "source": [
    "## Applying train test split"
   ]
  },
  {
   "cell_type": "code",
   "execution_count": 12,
   "id": "539ac6f0",
   "metadata": {},
   "outputs": [],
   "source": [
    "x_train,x_test,y_train,y_test = train_test_split(x,y,test_size=0.2,random_state=43)"
   ]
  },
  {
   "cell_type": "markdown",
   "id": "a46f61a9",
   "metadata": {},
   "source": [
    "The best result can be obtained at random_Sate =43 and size= 0.2"
   ]
  },
  {
   "cell_type": "code",
   "execution_count": 13,
   "id": "737e2747",
   "metadata": {},
   "outputs": [
    {
     "data": {
      "text/html": [
       "<div>\n",
       "<style scoped>\n",
       "    .dataframe tbody tr th:only-of-type {\n",
       "        vertical-align: middle;\n",
       "    }\n",
       "\n",
       "    .dataframe tbody tr th {\n",
       "        vertical-align: top;\n",
       "    }\n",
       "\n",
       "    .dataframe thead th {\n",
       "        text-align: right;\n",
       "    }\n",
       "</style>\n",
       "<table border=\"1\" class=\"dataframe\">\n",
       "  <thead>\n",
       "    <tr style=\"text-align: right;\">\n",
       "      <th></th>\n",
       "      <th>TV</th>\n",
       "      <th>Radio</th>\n",
       "      <th>Newspaper</th>\n",
       "    </tr>\n",
       "  </thead>\n",
       "  <tbody>\n",
       "    <tr>\n",
       "      <th>116</th>\n",
       "      <td>139.2</td>\n",
       "      <td>14.3</td>\n",
       "      <td>25.6</td>\n",
       "    </tr>\n",
       "    <tr>\n",
       "      <th>138</th>\n",
       "      <td>43.0</td>\n",
       "      <td>25.9</td>\n",
       "      <td>20.5</td>\n",
       "    </tr>\n",
       "    <tr>\n",
       "      <th>155</th>\n",
       "      <td>4.1</td>\n",
       "      <td>11.6</td>\n",
       "      <td>5.7</td>\n",
       "    </tr>\n",
       "    <tr>\n",
       "      <th>82</th>\n",
       "      <td>75.3</td>\n",
       "      <td>20.3</td>\n",
       "      <td>32.5</td>\n",
       "    </tr>\n",
       "    <tr>\n",
       "      <th>160</th>\n",
       "      <td>172.5</td>\n",
       "      <td>18.1</td>\n",
       "      <td>30.7</td>\n",
       "    </tr>\n",
       "  </tbody>\n",
       "</table>\n",
       "</div>"
      ],
      "text/plain": [
       "        TV  Radio  Newspaper\n",
       "116  139.2   14.3       25.6\n",
       "138   43.0   25.9       20.5\n",
       "155    4.1   11.6        5.7\n",
       "82    75.3   20.3       32.5\n",
       "160  172.5   18.1       30.7"
      ]
     },
     "execution_count": 13,
     "metadata": {},
     "output_type": "execute_result"
    }
   ],
   "source": [
    "x_train.head()"
   ]
  },
  {
   "cell_type": "code",
   "execution_count": 14,
   "id": "1eb0db2c",
   "metadata": {},
   "outputs": [],
   "source": [
    "sc= StandardScaler()\n",
    "x_train_scaled = sc.fit_transform(x_train)\n",
    "x_test_scaled = sc.transform(x_test)"
   ]
  },
  {
   "cell_type": "code",
   "execution_count": 15,
   "id": "49b2d48a",
   "metadata": {},
   "outputs": [
    {
     "data": {
      "text/plain": [
       "array([[-0.09119592, -0.58711725, -0.21518531],\n",
       "       [-1.21558521,  0.1850551 , -0.44825036],\n",
       "       [-1.6702499 , -0.76684702, -1.12459599],\n",
       "       [-0.83806157, -0.18771776,  0.100138  ],\n",
       "       [ 0.29801576, -0.33416424,  0.01787975],\n",
       "       [ 0.83566552, -1.17955982, -0.13292705],\n",
       "       [ 0.20451145, -0.14777781,  0.78105354],\n",
       "       [-1.43999554,  0.79746765,  1.62648559],\n",
       "       [ 0.60657997,  1.74936976,  1.35686131],\n",
       "       [-0.30976224,  0.35812821, -0.73615424],\n",
       "       [-1.56388875, -0.48061072,  0.8815914 ],\n",
       "       [-1.02156377, -0.74022039,  0.58454771],\n",
       "       [-0.10639037,  1.54967001,  1.31116228],\n",
       "       [ 1.55681748, -0.86669689, -0.40712123],\n",
       "       [-0.17885621, -0.31419426,  0.19610596],\n",
       "       [ 0.6170992 , -1.36594625, -0.41626104],\n",
       "       [ 0.56567183,  1.63620657,  1.0323982 ],\n",
       "       [ 1.5626615 , -0.61374388,  0.30578363],\n",
       "       [-1.3967498 , -1.43251283, -0.43911055],\n",
       "       [-1.49142291, -0.47395406, -0.3659921 ],\n",
       "       [-0.43482425, -0.58711725,  0.06357877],\n",
       "       [-0.14846731, -1.21284311, -0.96007949],\n",
       "       [ 0.88124887, -1.25278306,  0.89073121],\n",
       "       [-1.42480109,  0.17174178,  0.59368752],\n",
       "       [-0.46287554, -0.60708722, -0.88696104],\n",
       "       [ 1.18513787,  0.4712914 , -0.45739016],\n",
       "       [ 0.8590416 ,  0.67099114,  0.34691276],\n",
       "       [ 0.73164198, -0.16774779, -0.89610085],\n",
       "       [ 0.41606494,  1.5363567 ,  1.29745257],\n",
       "       [ 0.83449672,  0.30487494,  1.05524772],\n",
       "       [ 1.70525557,  0.34481489,  0.58911761],\n",
       "       [-0.80416626,  1.57629665,  0.19153606],\n",
       "       [-1.4890853 , -0.20103108, -0.60819696],\n",
       "       [-0.04795018,  0.41138147, -0.80927269],\n",
       "       [ 0.6170992 , -1.33266296,  0.19610596],\n",
       "       [-1.51713659, -1.26609638,  0.05900887],\n",
       "       [ 0.21736829, -0.87335355, -0.58077754],\n",
       "       [ 1.24825327, -0.12115118, -0.01410958],\n",
       "       [ 0.99462284, -0.96654676, -0.98749891],\n",
       "       [ 1.26695413,  0.25162168, -1.1337358 ],\n",
       "       [-0.84039918,  0.79081099,  1.0232584 ],\n",
       "       [ 1.66785385,  1.27674703,  0.95470985],\n",
       "       [ 0.44294743, -0.14112115, -0.37970181],\n",
       "       [ 0.81579585,  1.38325356, -0.14206686],\n",
       "       [-0.71650597,  0.84406425,  0.8678817 ],\n",
       "       [ 0.88124887, -1.31269299, -0.78642317],\n",
       "       [-0.66157219, -1.51904939, -0.32486298],\n",
       "       [-1.40493143,  0.65767782, -0.50308919],\n",
       "       [-0.68611707,  0.15842846,  1.96922831],\n",
       "       [-1.70998923,  1.09701726, -0.98749891],\n",
       "       [ 0.59138552, -1.30603633, -1.11545619],\n",
       "       [-0.82637353,  0.29156163, -0.65389599],\n",
       "       [ 1.7461637 ,  0.87734754,  3.22595162],\n",
       "       [-0.9093586 , -0.17440444, -0.54878822],\n",
       "       [-1.25649334,  1.19686713, -1.12002609],\n",
       "       [-0.34833276, -0.56049062, -1.1383057 ],\n",
       "       [-0.59378157, -0.55383396,  0.39261179],\n",
       "       [-1.2740254 ,  1.14361387, -0.84126201],\n",
       "       [-0.86026884, -0.40738748, -0.79556298],\n",
       "       [-0.49560204, -1.15958985,  0.18696615],\n",
       "       [ 1.60473844, -0.8334136 , -1.09260667],\n",
       "       [ 1.35461442, -1.30603633, -0.49394939],\n",
       "       [-1.41895707,  1.05707731, -0.96007949],\n",
       "       [ 0.70008428, -0.97986008, -0.17862608],\n",
       "       [ 1.48084523,  0.38475484,  1.3431516 ],\n",
       "       [-0.66975382, -0.88001021,  0.24637489],\n",
       "       [ 0.39502648, -0.82010028,  1.28374286],\n",
       "       [ 1.02267413, -1.31269299,  2.49019724],\n",
       "       [ 1.35227681,  0.37809818, -0.65846589],\n",
       "       [ 0.44294743,  1.38325356, -1.30739211],\n",
       "       [-0.08768951, -1.39922954, -0.16948628],\n",
       "       [-1.61765372, -1.39922954, -1.33938143],\n",
       "       [-0.57858712, -1.03311334, -1.05604745],\n",
       "       [-1.61648492,  1.71608647,  2.04234675],\n",
       "       [ 1.38617212, -0.20768773, -1.37137075],\n",
       "       [ 1.08462074, -1.26609638,  0.30121373],\n",
       "       [-0.39859133, -0.38076085,  0.37890208],\n",
       "       [ 0.74449882,  0.42469479, -0.96007949],\n",
       "       [-1.50895497,  0.9638841 , -0.39798142],\n",
       "       [ 0.47801155, -0.39407416, -0.56706783],\n",
       "       [-0.51780932,  0.43135145, -1.00120861],\n",
       "       [-1.65505545,  0.45132142, -0.95550958],\n",
       "       [-1.56505755, -1.51239273, -0.21518531],\n",
       "       [ 0.96423394,  0.61108122,  2.00578753],\n",
       "       [ 0.03152848,  0.83075094, -1.11088628],\n",
       "       [ 0.54580217,  0.81743762,  2.06976617],\n",
       "       [ 0.35061193, -0.91995015, -1.09260667],\n",
       "       [ 1.7134372 ,  0.30487494, -1.30282221],\n",
       "       [ 0.59138552,  0.01198198, -0.73615424],\n",
       "       [-1.62700415,  1.05042065,  0.92729043],\n",
       "       [ 0.64865691, -0.0545846 ,  0.05900887],\n",
       "       [-1.28688224,  1.03045068,  1.61277588],\n",
       "       [-0.91870903,  1.42319351,  0.24180499],\n",
       "       [ 0.66735777,  0.65102117,  0.7170749 ],\n",
       "       [ 0.53995815, -0.31419426,  1.61734578],\n",
       "       [ 1.51824696,  1.71608647,  0.52513897],\n",
       "       [-0.83572396, -0.82010028, -1.11088628],\n",
       "       [-0.69897391, -0.7535337 , -0.2014756 ],\n",
       "       [-1.04610865,  0.64436451, -0.31115327],\n",
       "       [ 1.12436007,  1.72274313,  0.63938655],\n",
       "       [-0.99000607, -0.70028044, -0.54878822],\n",
       "       [ 0.60891758,  0.49791803,  0.38347198],\n",
       "       [-1.0613031 , -1.15958985, -0.02781928],\n",
       "       [ 1.38149691, -1.34597628,  0.57997781],\n",
       "       [ 0.9502083 , -0.41404414, -0.18776589],\n",
       "       [ 0.81112064,  1.23680708,  0.42460111],\n",
       "       [-1.42596989, -0.80678697, -0.02781928],\n",
       "       [ 0.23139394,  1.25677706, -1.22056396],\n",
       "       [-0.62066405,  1.35662693,  0.92272053],\n",
       "       [-0.13794807,  1.23680708,  0.71250499],\n",
       "       [ 0.19282341,  0.91063083, -1.04690764],\n",
       "       [-0.31326865, -0.23431437, -0.85497172],\n",
       "       [ 1.08812715, -0.42735745, -0.33857269],\n",
       "       [ 0.77605652,  0.09851854, -0.78642317],\n",
       "       [-0.61715764, -1.21284311, -1.01491832],\n",
       "       [ 0.47684274, -0.13446449, -0.95093968],\n",
       "       [-0.24898444,  0.91728749,  2.23428268],\n",
       "       [ 0.03269729, -1.45248281, -0.27459404],\n",
       "       [ 0.28399011,  1.10367392,  0.33777295],\n",
       "       [ 0.05256695,  1.21018045,  1.28831277],\n",
       "       [ 1.06591987,  0.74421438, -1.14287561],\n",
       "       [ 1.08578954,  1.22349377, -0.53964842],\n",
       "       [ 0.77722533,  1.32334364,  0.15954674],\n",
       "       [ 1.33591356,  1.30337366,  1.11465645],\n",
       "       [-1.1536386 ,  1.58960996, -0.99663871],\n",
       "       [-1.13376894, -0.76684702, -0.54421832],\n",
       "       [ 1.18981308,  0.26493499, -0.33857269],\n",
       "       [-0.06665104,  0.24496502,  0.7262147 ],\n",
       "       [ 0.93735145, -0.48726738,  0.89530111],\n",
       "       [ 0.48385557, -0.33416424, -0.21518531],\n",
       "       [-0.20573869, -1.15958985,  0.04529916],\n",
       "       [ 0.33541748, -0.51389401, -1.27540279],\n",
       "       [-1.0928608 , -1.4058862 , -0.40712123],\n",
       "       [-0.58209353, -1.43916949, -0.01410958],\n",
       "       [ 0.27113327, -1.01980003,  0.22352538],\n",
       "       [ 1.40136657,  1.3765969 , -1.15658531],\n",
       "       [-1.61999133,  0.27159165, -1.2891125 ],\n",
       "       [-0.82520473, -1.4857661 , -0.70873482],\n",
       "       [-1.52064301,  1.36994025,  2.70041278],\n",
       "       [-0.59962559, -1.44582615, -1.04690764],\n",
       "       [ 1.10682801,  0.99051073, -0.32486298],\n",
       "       [-0.43482425,  1.64286323,  0.96384966],\n",
       "       [-0.27937334,  0.76418435, -0.8184125 ],\n",
       "       [ 1.51590935, -1.38591622, -0.30201346],\n",
       "       [-0.78079018, -1.53901936, -0.96464939],\n",
       "       [ 1.67954189, -1.26609638, -0.99663871],\n",
       "       [ 1.59655681,  1.25677706,  1.64019529],\n",
       "       [-0.42430501,  1.16358384,  1.50309821],\n",
       "       [-1.5814208 ,  0.91728749,  0.68051567],\n",
       "       [ 0.9209882 , -0.99317339,  1.19691471],\n",
       "       [-1.38389296, -1.43916949,  0.12298751],\n",
       "       [ 0.51541327,  0.37144152, -0.55335812],\n",
       "       [-0.07833908, -1.41254286, -0.9737892 ],\n",
       "       [-0.54469181, -0.89998018, -1.22056396],\n",
       "       [-0.92572185,  0.89731752,  3.82460891],\n",
       "       [ 0.74566762,  1.76268308,  0.33777295],\n",
       "       [ 1.05656944, -1.1995298 , -0.31115327],\n",
       "       [-0.93624109, -0.76019036,  0.29664383],\n",
       "       [-0.18586903,  1.31003032, -0.06437851],\n",
       "       [ 1.05656944,  0.29156163, -0.88239114]])"
      ]
     },
     "execution_count": 15,
     "metadata": {},
     "output_type": "execute_result"
    }
   ],
   "source": [
    "x_train_scaled"
   ]
  },
  {
   "cell_type": "markdown",
   "id": "93e5c87e",
   "metadata": {},
   "source": [
    "Applying linear Regression as this is a sales prediction model, linear regression should work just fine "
   ]
  },
  {
   "cell_type": "code",
   "execution_count": 16,
   "id": "8459bea2",
   "metadata": {},
   "outputs": [
    {
     "data": {
      "text/html": [
       "<style>#sk-container-id-1 {color: black;}#sk-container-id-1 pre{padding: 0;}#sk-container-id-1 div.sk-toggleable {background-color: white;}#sk-container-id-1 label.sk-toggleable__label {cursor: pointer;display: block;width: 100%;margin-bottom: 0;padding: 0.3em;box-sizing: border-box;text-align: center;}#sk-container-id-1 label.sk-toggleable__label-arrow:before {content: \"▸\";float: left;margin-right: 0.25em;color: #696969;}#sk-container-id-1 label.sk-toggleable__label-arrow:hover:before {color: black;}#sk-container-id-1 div.sk-estimator:hover label.sk-toggleable__label-arrow:before {color: black;}#sk-container-id-1 div.sk-toggleable__content {max-height: 0;max-width: 0;overflow: hidden;text-align: left;background-color: #f0f8ff;}#sk-container-id-1 div.sk-toggleable__content pre {margin: 0.2em;color: black;border-radius: 0.25em;background-color: #f0f8ff;}#sk-container-id-1 input.sk-toggleable__control:checked~div.sk-toggleable__content {max-height: 200px;max-width: 100%;overflow: auto;}#sk-container-id-1 input.sk-toggleable__control:checked~label.sk-toggleable__label-arrow:before {content: \"▾\";}#sk-container-id-1 div.sk-estimator input.sk-toggleable__control:checked~label.sk-toggleable__label {background-color: #d4ebff;}#sk-container-id-1 div.sk-label input.sk-toggleable__control:checked~label.sk-toggleable__label {background-color: #d4ebff;}#sk-container-id-1 input.sk-hidden--visually {border: 0;clip: rect(1px 1px 1px 1px);clip: rect(1px, 1px, 1px, 1px);height: 1px;margin: -1px;overflow: hidden;padding: 0;position: absolute;width: 1px;}#sk-container-id-1 div.sk-estimator {font-family: monospace;background-color: #f0f8ff;border: 1px dotted black;border-radius: 0.25em;box-sizing: border-box;margin-bottom: 0.5em;}#sk-container-id-1 div.sk-estimator:hover {background-color: #d4ebff;}#sk-container-id-1 div.sk-parallel-item::after {content: \"\";width: 100%;border-bottom: 1px solid gray;flex-grow: 1;}#sk-container-id-1 div.sk-label:hover label.sk-toggleable__label {background-color: #d4ebff;}#sk-container-id-1 div.sk-serial::before {content: \"\";position: absolute;border-left: 1px solid gray;box-sizing: border-box;top: 0;bottom: 0;left: 50%;z-index: 0;}#sk-container-id-1 div.sk-serial {display: flex;flex-direction: column;align-items: center;background-color: white;padding-right: 0.2em;padding-left: 0.2em;position: relative;}#sk-container-id-1 div.sk-item {position: relative;z-index: 1;}#sk-container-id-1 div.sk-parallel {display: flex;align-items: stretch;justify-content: center;background-color: white;position: relative;}#sk-container-id-1 div.sk-item::before, #sk-container-id-1 div.sk-parallel-item::before {content: \"\";position: absolute;border-left: 1px solid gray;box-sizing: border-box;top: 0;bottom: 0;left: 50%;z-index: -1;}#sk-container-id-1 div.sk-parallel-item {display: flex;flex-direction: column;z-index: 1;position: relative;background-color: white;}#sk-container-id-1 div.sk-parallel-item:first-child::after {align-self: flex-end;width: 50%;}#sk-container-id-1 div.sk-parallel-item:last-child::after {align-self: flex-start;width: 50%;}#sk-container-id-1 div.sk-parallel-item:only-child::after {width: 0;}#sk-container-id-1 div.sk-dashed-wrapped {border: 1px dashed gray;margin: 0 0.4em 0.5em 0.4em;box-sizing: border-box;padding-bottom: 0.4em;background-color: white;}#sk-container-id-1 div.sk-label label {font-family: monospace;font-weight: bold;display: inline-block;line-height: 1.2em;}#sk-container-id-1 div.sk-label-container {text-align: center;}#sk-container-id-1 div.sk-container {/* jupyter's `normalize.less` sets `[hidden] { display: none; }` but bootstrap.min.css set `[hidden] { display: none !important; }` so we also need the `!important` here to be able to override the default hidden behavior on the sphinx rendered scikit-learn.org. See: https://github.com/scikit-learn/scikit-learn/issues/21755 */display: inline-block !important;position: relative;}#sk-container-id-1 div.sk-text-repr-fallback {display: none;}</style><div id=\"sk-container-id-1\" class=\"sk-top-container\"><div class=\"sk-text-repr-fallback\"><pre>LinearRegression()</pre><b>In a Jupyter environment, please rerun this cell to show the HTML representation or trust the notebook. <br />On GitHub, the HTML representation is unable to render, please try loading this page with nbviewer.org.</b></div><div class=\"sk-container\" hidden><div class=\"sk-item\"><div class=\"sk-estimator sk-toggleable\"><input class=\"sk-toggleable__control sk-hidden--visually\" id=\"sk-estimator-id-1\" type=\"checkbox\" checked><label for=\"sk-estimator-id-1\" class=\"sk-toggleable__label sk-toggleable__label-arrow\">LinearRegression</label><div class=\"sk-toggleable__content\"><pre>LinearRegression()</pre></div></div></div></div></div>"
      ],
      "text/plain": [
       "LinearRegression()"
      ]
     },
     "execution_count": 16,
     "metadata": {},
     "output_type": "execute_result"
    }
   ],
   "source": [
    "lr = LinearRegression()\n",
    "lr.fit(x_train_scaled,y_train)"
   ]
  },
  {
   "cell_type": "code",
   "execution_count": 17,
   "id": "ad465797",
   "metadata": {},
   "outputs": [],
   "source": [
    "y_pred = lr.predict(x_test_scaled,)"
   ]
  },
  {
   "cell_type": "code",
   "execution_count": 18,
   "id": "2a41c8b6",
   "metadata": {
    "scrolled": true
   },
   "outputs": [
    {
     "data": {
      "text/plain": [
       "array([ 8.54034679, 15.57247463, 12.00612144,  9.67279861, 11.42385092,\n",
       "       18.55293488, 24.02278242,  7.05365828, 22.12551494, 16.72065638,\n",
       "        7.85081793, 23.11509395, 19.18719498,  5.40127091, 15.23576551,\n",
       "        9.90642579, 11.94342451,  9.81855823, 21.14401409,  9.1534307 ,\n",
       "       20.44468759, 12.29808365, 13.5869414 , 10.57031008, 16.26513055,\n",
       "        7.86253245, 20.69472029, 20.35016487,  9.00527669, 14.11934464,\n",
       "       17.20367735, 15.11272068, 17.23013018, 19.08466691, 17.13277712,\n",
       "       12.31707038, 12.73960467,  6.07982336, 10.01695956, 13.32737828])"
      ]
     },
     "execution_count": 18,
     "metadata": {},
     "output_type": "execute_result"
    }
   ],
   "source": [
    "y_pred"
   ]
  },
  {
   "cell_type": "markdown",
   "id": "d784e4ec",
   "metadata": {},
   "source": [
    "## Performing Evaluation of the model "
   ]
  },
  {
   "cell_type": "code",
   "execution_count": 19,
   "id": "cdf9c677",
   "metadata": {},
   "outputs": [
    {
     "data": {
      "text/plain": [
       "0.9286102071081018"
      ]
     },
     "execution_count": 19,
     "metadata": {},
     "output_type": "execute_result"
    }
   ],
   "source": [
    "r2_score(y_test,y_pred)"
   ]
  },
  {
   "cell_type": "markdown",
   "id": "258e5853",
   "metadata": {},
   "source": [
    "## Plotting the Results"
   ]
  },
  {
   "cell_type": "code",
   "execution_count": 20,
   "id": "43917e98",
   "metadata": {},
   "outputs": [
    {
     "data": {
      "text/plain": [
       "<matplotlib.collections.PathCollection at 0x1bbe9293b10>"
      ]
     },
     "execution_count": 20,
     "metadata": {},
     "output_type": "execute_result"
    },
    {
     "data": {
      "image/png": "[encoded data removed]",
      "text/plain": [
       "<Figure size 640x480 with 1 Axes>"
      ]
     },
     "metadata": {},
     "output_type": "display_data"
    }
   ],
   "source": [
    "plt.scatter(y_test,y_pred,c='r')"
   ]
  },
  {
   "cell_type": "code",
   "execution_count": 21,
   "id": "31b549ec",
   "metadata": {},
   "outputs": [],
   "source": [
    "\n",
    "\n",
    "def predict_sales(tv, radio, newspaper):\n",
    "    input_data = pd.DataFrame({\"TV\": [tv], \"Radio\": [radio], \"Newspaper\": [newspaper]})\n",
    "    input_data_scaled = sc.transform(input_data)\n",
    "    prediction = lr.predict(input_data_scaled)\n",
    "    return prediction[0]"
   ]
  },
  {
   "cell_type": "code",
   "execution_count": 22,
   "id": "b4af6e94",
   "metadata": {},
   "outputs": [
    {
     "name": "stdout",
     "output_type": "stream",
     "text": [
      "Enter TV budget (or 'q' to exit): 214\n",
      "Enter Radio budget: 24\n",
      "Enter Newspaper budget: 4\n",
      "\n",
      "\n",
      "Predicted Sales: 17.17\n",
      "\n",
      "Enter TV budget (or 'q' to exit): q\n",
      "Exiting...\n"
     ]
    }
   ],
   "source": [
    "while True:\n",
    "    tv = input(\"Enter TV budget (or 'q' to exit): \")\n",
    "    if tv.lower() == 'q':\n",
    "        print(\"Exiting...\")\n",
    "        break\n",
    "    radio = input(\"Enter Radio budget: \")\n",
    "    newspaper = input(\"Enter Newspaper budget: \")\n",
    "    try:\n",
    "        tv = float(tv)\n",
    "        radio = float(radio)\n",
    "        newspaper = float(newspaper)\n",
    "        prediction = predict_sales(tv, radio, newspaper)\n",
    "        print(f\"\\n\\nPredicted Sales: {prediction:.2f}\\n\")\n",
    "    except ValueError:\n",
    "        print(\"Please enter valid numbers or 'q' to exit.\\n\")"
   ]
  },
  {
   "cell_type": "code",
   "execution_count": null,
   "id": "5bd3fd1a",
   "metadata": {},
   "outputs": [],
   "source": []
  }
 ],
 "metadata": {
  "kernelspec": {
   "display_name": "Python 3 (ipykernel)",
   "language": "python",
   "name": "python3"
  },
  "language_info": {
   "codemirror_mode": {
    "name": "ipython",
    "version": 3
   },
   "file_extension": ".py",
   "mimetype": "text/x-python",
   "name": "python",
   "nbconvert_exporter": "python",
   "pygments_lexer": "ipython3",
   "version": "3.11.5"
  }
 },
 "nbformat": 4,
 "nbformat_minor": 5
}
